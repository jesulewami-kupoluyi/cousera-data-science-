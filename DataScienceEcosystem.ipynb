{
 "cells": [
  {
   "cell_type": "markdown",
   "id": "6f0fdec4",
   "metadata": {},
   "source": [
    "# Data Science Tools and Ecosystem"
   ]
  },
  {
   "cell_type": "markdown",
   "id": "0f76b463",
   "metadata": {},
   "source": [
    "In this notebook, Data Science Tools and Ecosystem are summarized."
   ]
  },
  {
   "cell_type": "markdown",
   "id": "9dd269ac",
   "metadata": {},
   "source": [
    "___Objectives___"
   ]
  },
  {
   "cell_type": "markdown",
   "id": "eefdf13d",
   "metadata": {},
   "source": [
    "Some of the popular languages that Data Scientists use are:\n",
    "    \n",
    "    1. python\n",
    "    2. R\n",
    "    3. SQL"
   ]
  },
  {
   "cell_type": "markdown",
   "id": "19050089",
   "metadata": {},
   "source": [
    "| Data Science Tools |\n",
    "|--------------------|\n",
    "| jupyter-notebook | \n",
    "| R-studio |\n"
   ]
  },
  {
   "cell_type": "markdown",
   "id": "17d43055",
   "metadata": {},
   "source": [
    "### Below are a few examples of evaluating arithmetic expressions in Python"
   ]
  },
  {
   "cell_type": "code",
   "execution_count": 5,
   "id": "f9522ca8",
   "metadata": {},
   "outputs": [
    {
     "data": {
      "text/plain": [
       "17"
      ]
     },
     "execution_count": 5,
     "metadata": {},
     "output_type": "execute_result"
    }
   ],
   "source": [
    "(3*4)+5\n",
    "\n",
    "# This is a simple arithmetic expression to mutiply then add integers"
   ]
  },
  {
   "cell_type": "code",
   "execution_count": 34,
   "id": "b60ffd40",
   "metadata": {},
   "outputs": [
    {
     "name": "stdout",
     "output_type": "stream",
     "text": [
      "3.33hours\n"
     ]
    }
   ],
   "source": [
    "time = 200.00  / 60.00\n",
    "hours = round(time, 2) \n",
    "print(\"{}hours\".format(hours))\n",
    "\n",
    "# this will convert 200 minutes to hours by diving by 60"
   ]
  },
  {
   "cell_type": "markdown",
   "id": "36c0b94b",
   "metadata": {},
   "source": [
    "List popular languages for Data Science\n",
    "- Python\n",
    "- R\n",
    "- java\n",
    "- c#\n",
    "- javascript\n",
    "- scala"
   ]
  },
  {
   "cell_type": "markdown",
   "id": "4ccf3bac",
   "metadata": {},
   "source": [
    "## Author\n",
    "Jesulewami kupoluyi"
   ]
  }
 ],
 "metadata": {
  "kernelspec": {
   "display_name": "Python 3 (ipykernel)",
   "language": "python",
   "name": "python3"
  },
  "language_info": {
   "codemirror_mode": {
    "name": "ipython",
    "version": 3
   },
   "file_extension": ".py",
   "mimetype": "text/x-python",
   "name": "python",
   "nbconvert_exporter": "python",
   "pygments_lexer": "ipython3",
   "version": "3.10.9"
  }
 },
 "nbformat": 4,
 "nbformat_minor": 5
}
