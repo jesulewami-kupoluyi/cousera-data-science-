{
 "cells": [
  {
   "cell_type": "markdown",
   "id": "e8f3a441",
   "metadata": {},
   "source": [
    "# Data Science Tools and Ecosystem"
   ]
  },
  {
   "cell_type": "markdown",
   "id": "e275c9ee",
   "metadata": {},
   "source": [
    "In this notebook, Data Science Tools and Ecosystem are summarized."
   ]
  },
  {
   "cell_type": "markdown",
   "id": "e746170e",
   "metadata": {},
   "source": [
    "___Objectives___"
   ]
  },
  {
   "cell_type": "markdown",
   "id": "9df4ed6a",
   "metadata": {},
   "source": [
    "Some of the popular languages that Data Scientists use are:\n",
    "    \n",
    "    1. python\n",
    "    2. R\n",
    "    3. SQL"
   ]
  },
  {
   "cell_type": "markdown",
   "id": "5746eaa6",
   "metadata": {},
   "source": [
    "Some of the commonly used libraries used by Data Scientists include:\n",
    "1. sklearn\n",
    "2. matplotlib\n",
    "3. pandas \n",
    "4. numpy\n",
    "5. seaborn\n",
    "6. tensorflow\n",
    "7. ggplot\n",
    "8. leflet\n",
    "9. plotx\n",
    "10. gystr"
   ]
  },
  {
   "cell_type": "markdown",
   "id": "a1c5af2b",
   "metadata": {},
   "source": [
    "| Data Science Tools |\n",
    "|--------------------|\n",
    "| jupyter-notebook | \n",
    "| R-studio |\n",
    "| visual stuido code |\n",
    "| MySql |"
   ]
  },
  {
   "cell_type": "markdown",
   "id": "1135df9c",
   "metadata": {},
   "source": [
    "### Below are a few examples of evaluating arithmetic expressions in Python"
   ]
  },
  {
   "cell_type": "code",
   "execution_count": 5,
   "id": "7aa93801",
   "metadata": {},
   "outputs": [
    {
     "data": {
      "text/plain": [
       "17"
      ]
     },
     "execution_count": 5,
     "metadata": {},
     "output_type": "execute_result"
    }
   ],
   "source": [
    "(3*4)+5\n",
    "\n",
    "# This is a simple arithmetic expression to mutiply then add integers"
   ]
  },
  {
   "cell_type": "code",
   "execution_count": 34,
   "id": "ce3a4a9d",
   "metadata": {},
   "outputs": [
    {
     "name": "stdout",
     "output_type": "stream",
     "text": [
      "3.33hours\n"
     ]
    }
   ],
   "source": [
    "time = 200.00  / 60.00\n",
    "hours = round(time, 2) \n",
    "print(\"{}hours\".format(hours))\n",
    "\n",
    "# this will convert 200 minutes to hours by diving by 60"
   ]
  },
  {
   "cell_type": "markdown",
   "id": "2c840f8c",
   "metadata": {},
   "source": [
    "List popular languages for Data Science\n",
    "- Python\n",
    "- R\n",
    "- java\n",
    "- c#\n",
    "- javascript\n",
    "- scala"
   ]
  },
  {
   "cell_type": "markdown",
   "id": "53fc2550",
   "metadata": {},
   "source": [
    "## Author\n",
    "Jesulewami kupoluyi"
   ]
  }
 ],
 "metadata": {
  "kernelspec": {
   "display_name": "Python 3 (ipykernel)",
   "language": "python",
   "name": "python3"
  },
  "language_info": {
   "codemirror_mode": {
    "name": "ipython",
    "version": 3
   },
   "file_extension": ".py",
   "mimetype": "text/x-python",
   "name": "python",
   "nbconvert_exporter": "python",
   "pygments_lexer": "ipython3",
   "version": "3.10.9"
  }
 },
 "nbformat": 4,
 "nbformat_minor": 5
}
